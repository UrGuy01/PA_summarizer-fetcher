{
 "cells": [
  {
   "cell_type": "code",
   "execution_count": 1,
   "id": "ca094abc",
   "metadata": {},
   "outputs": [],
   "source": [
    "import pandas as pd\n",
    "pd.set_option('display.max_colwidth',100)\n"
   ]
  },
  {
   "cell_type": "code",
   "execution_count": 2,
   "id": "972df9ce",
   "metadata": {},
   "outputs": [],
   "source": [
    "df = pd.read_csv('models.csv')"
   ]
  },
  {
   "cell_type": "code",
   "execution_count": 3,
   "id": "8c57fa2e",
   "metadata": {},
   "outputs": [
    {
     "data": {
      "text/html": [
       "<div>\n",
       "<style scoped>\n",
       "    .dataframe tbody tr th:only-of-type {\n",
       "        vertical-align: middle;\n",
       "    }\n",
       "\n",
       "    .dataframe tbody tr th {\n",
       "        vertical-align: top;\n",
       "    }\n",
       "\n",
       "    .dataframe thead th {\n",
       "        text-align: right;\n",
       "    }\n",
       "</style>\n",
       "<table border=\"1\" class=\"dataframe\">\n",
       "  <thead>\n",
       "    <tr style=\"text-align: right;\">\n",
       "      <th></th>\n",
       "      <th></th>\n",
       "      <th>Model Name</th>\n",
       "      <th>Provider</th>\n",
       "      <th>Release Date</th>\n",
       "      <th>Parameters</th>\n",
       "      <th>Architecture</th>\n",
       "      <th>Training Data Cutoff</th>\n",
       "      <th>Key Features</th>\n",
       "    </tr>\n",
       "  </thead>\n",
       "  <tbody>\n",
       "    <tr>\n",
       "      <th>GPT-4</th>\n",
       "      <th>OpenAI</th>\n",
       "      <td>2023-03</td>\n",
       "      <td>&gt;1T</td>\n",
       "      <td>Transformer</td>\n",
       "      <td>2023-01</td>\n",
       "      <td>Multimodal (text + image)</td>\n",
       "      <td>better reasoning</td>\n",
       "      <td>long context</td>\n",
       "    </tr>\n",
       "    <tr>\n",
       "      <th>GPT-3.5</th>\n",
       "      <th>OpenAI</th>\n",
       "      <td>2022-11</td>\n",
       "      <td>175B</td>\n",
       "      <td>Transformer</td>\n",
       "      <td>2021-09</td>\n",
       "      <td>Faster and cheaper than GPT-3</td>\n",
       "      <td>improved chat</td>\n",
       "      <td>NaN</td>\n",
       "    </tr>\n",
       "    <tr>\n",
       "      <th>Claude 2</th>\n",
       "      <th>Anthropic</th>\n",
       "      <td>2023-07</td>\n",
       "      <td>Unknown</td>\n",
       "      <td>Constitutional AI</td>\n",
       "      <td>2023-01</td>\n",
       "      <td>Long context window (100k tokens)</td>\n",
       "      <td>safety-focused</td>\n",
       "      <td>NaN</td>\n",
       "    </tr>\n",
       "    <tr>\n",
       "      <th>Claude Instant</th>\n",
       "      <th>Anthropic</th>\n",
       "      <td>2023-03</td>\n",
       "      <td>Unknown</td>\n",
       "      <td>Constitutional AI</td>\n",
       "      <td>2023-01</td>\n",
       "      <td>Faster</td>\n",
       "      <td>cheaper Claude variant</td>\n",
       "      <td>NaN</td>\n",
       "    </tr>\n",
       "    <tr>\n",
       "      <th>LLaMA 2</th>\n",
       "      <th>Meta</th>\n",
       "      <td>2023-07</td>\n",
       "      <td>7B / 13B / 70B</td>\n",
       "      <td>Transformer</td>\n",
       "      <td>2023-06</td>\n",
       "      <td>Open-source</td>\n",
       "      <td>strong fine-tuning ability</td>\n",
       "      <td>NaN</td>\n",
       "    </tr>\n",
       "  </tbody>\n",
       "</table>\n",
       "</div>"
      ],
      "text/plain": [
       "                         Model Name        Provider       Release Date  \\\n",
       "GPT-4          OpenAI       2023-03             >1T        Transformer   \n",
       "GPT-3.5        OpenAI       2022-11            175B        Transformer   \n",
       "Claude 2       Anthropic    2023-07         Unknown  Constitutional AI   \n",
       "Claude Instant Anthropic    2023-03         Unknown  Constitutional AI   \n",
       "LLaMA 2        Meta         2023-07  7B / 13B / 70B        Transformer   \n",
       "\n",
       "                         Parameters                       Architecture  \\\n",
       "GPT-4          OpenAI       2023-01          Multimodal (text + image)   \n",
       "GPT-3.5        OpenAI       2021-09      Faster and cheaper than GPT-3   \n",
       "Claude 2       Anthropic    2023-01  Long context window (100k tokens)   \n",
       "Claude Instant Anthropic    2023-01                             Faster   \n",
       "LLaMA 2        Meta         2023-06                        Open-source   \n",
       "\n",
       "                                 Training Data Cutoff   Key Features  \n",
       "GPT-4          OpenAI                better reasoning   long context  \n",
       "GPT-3.5        OpenAI                   improved chat            NaN  \n",
       "Claude 2       Anthropic               safety-focused            NaN  \n",
       "Claude Instant Anthropic       cheaper Claude variant            NaN  \n",
       "LLaMA 2        Meta        strong fine-tuning ability            NaN  "
      ]
     },
     "execution_count": 3,
     "metadata": {},
     "output_type": "execute_result"
    }
   ],
   "source": [
    "df.head()"
   ]
  },
  {
   "cell_type": "code",
   "execution_count": 4,
   "id": "e0ffc142",
   "metadata": {},
   "outputs": [
    {
     "name": "stdout",
     "output_type": "stream",
     "text": [
      "<class 'pandas.core.frame.DataFrame'>\n",
      "MultiIndex: 11 entries, ('GPT-4', 'OpenAI') to ('Falcon 180B', 'Technology Innovation Institute')\n",
      "Data columns (total 7 columns):\n",
      " #   Column                Non-Null Count  Dtype \n",
      "---  ------                --------------  ----- \n",
      " 0   Model Name            11 non-null     object\n",
      " 1   Provider              11 non-null     object\n",
      " 2   Release Date          11 non-null     object\n",
      " 3   Parameters            11 non-null     object\n",
      " 4   Architecture          11 non-null     object\n",
      " 5   Training Data Cutoff  10 non-null     object\n",
      " 6   Key Features          2 non-null      object\n",
      "dtypes: object(7)\n",
      "memory usage: 1.4+ KB\n"
     ]
    }
   ],
   "source": [
    "df.info()"
   ]
  },
  {
   "cell_type": "code",
   "execution_count": 5,
   "id": "3927e5de",
   "metadata": {},
   "outputs": [
    {
     "name": "stderr",
     "output_type": "stream",
     "text": [
      "d:\\Langchain_project\\venv.rockyfinance\\Lib\\site-packages\\tqdm\\auto.py:21: TqdmWarning: IProgress not found. Please update jupyter and ipywidgets. See https://ipywidgets.readthedocs.io/en/stable/user_install.html\n",
      "  from .autonotebook import tqdm as notebook_tqdm\n"
     ]
    }
   ],
   "source": [
    "from sentence_transformers import SentenceTransformer"
   ]
  },
  {
   "cell_type": "code",
   "execution_count": 6,
   "id": "f0f8b6e3",
   "metadata": {},
   "outputs": [],
   "source": [
    "encoder = SentenceTransformer('all-mpnet-base-v2')"
   ]
  },
  {
   "cell_type": "code",
   "execution_count": 7,
   "id": "9ef5ef03",
   "metadata": {},
   "outputs": [
    {
     "name": "stderr",
     "output_type": "stream",
     "text": [
      "d:\\Langchain_project\\venv.rockyfinance\\Lib\\site-packages\\sentence_transformers\\SentenceTransformer.py:1015: FutureWarning: Series.__getitem__ treating keys as positions is deprecated. In a future version, integer keys will always be treated as labels (consistent with DataFrame behavior). To access a value by position, use `ser.iloc[pos]`\n",
      "  sentences_sorted = [sentences[int(idx)] for idx in length_sorted_idx]\n"
     ]
    }
   ],
   "source": [
    "vectors = encoder.encode(df.Architecture)"
   ]
  },
  {
   "cell_type": "code",
   "execution_count": 8,
   "id": "9669e67b",
   "metadata": {},
   "outputs": [
    {
     "name": "stdout",
     "output_type": "stream",
     "text": [
      "(11, 768)\n",
      "(11, 7)\n"
     ]
    }
   ],
   "source": [
    "print(vectors.shape)\n",
    "print(df.shape)"
   ]
  },
  {
   "cell_type": "code",
   "execution_count": 9,
   "id": "5d3d3043",
   "metadata": {},
   "outputs": [
    {
     "data": {
      "text/plain": [
       "768"
      ]
     },
     "execution_count": 9,
     "metadata": {},
     "output_type": "execute_result"
    }
   ],
   "source": [
    "dim = vectors.shape[1]\n",
    "dim"
   ]
  },
  {
   "cell_type": "code",
   "execution_count": 10,
   "id": "f381726c",
   "metadata": {},
   "outputs": [],
   "source": [
    "# creating an empty index using faiss\n",
    "import faiss\n",
    "\n",
    "index = faiss.IndexFlatL2(dim)\n",
    "\n",
    "index.add(vectors)"
   ]
  },
  {
   "cell_type": "code",
   "execution_count": 11,
   "id": "f4f4a26f",
   "metadata": {},
   "outputs": [
    {
     "data": {
      "text/plain": [
       "(768,)"
      ]
     },
     "execution_count": 11,
     "metadata": {},
     "output_type": "execute_result"
    }
   ],
   "source": [
    "search_query = \"which models are better tahn GPT?\"\n",
    "vec = encoder.encode(search_query)\n",
    "vec.shape"
   ]
  },
  {
   "cell_type": "code",
   "execution_count": 12,
   "id": "cb822e93",
   "metadata": {},
   "outputs": [
    {
     "data": {
      "text/plain": [
       "(1, 768)"
      ]
     },
     "execution_count": 12,
     "metadata": {},
     "output_type": "execute_result"
    }
   ],
   "source": [
    "#since index.search expects a 2 dim array we will convert the vec to 2d using numpy library\n",
    "import numpy as np\n",
    "svec = np.array(vec).reshape(1,-1)\n",
    "svec.shape"
   ]
  },
  {
   "cell_type": "code",
   "execution_count": 13,
   "id": "aaa6fcd2",
   "metadata": {},
   "outputs": [],
   "source": [
    "distances , I =index.search(svec, k =3)"
   ]
  },
  {
   "cell_type": "code",
   "execution_count": 14,
   "id": "2a1b66cd",
   "metadata": {},
   "outputs": [
    {
     "name": "stdout",
     "output_type": "stream",
     "text": [
      "[[1 4 9]]\n",
      "[[0.7205563 1.5879384 1.5980325]]\n"
     ]
    }
   ],
   "source": [
    "print(I)\n",
    "print(distances)"
   ]
  },
  {
   "cell_type": "code",
   "execution_count": 15,
   "id": "b52276e2",
   "metadata": {},
   "outputs": [
    {
     "data": {
      "text/html": [
       "<div>\n",
       "<style scoped>\n",
       "    .dataframe tbody tr th:only-of-type {\n",
       "        vertical-align: middle;\n",
       "    }\n",
       "\n",
       "    .dataframe tbody tr th {\n",
       "        vertical-align: top;\n",
       "    }\n",
       "\n",
       "    .dataframe thead th {\n",
       "        text-align: right;\n",
       "    }\n",
       "</style>\n",
       "<table border=\"1\" class=\"dataframe\">\n",
       "  <thead>\n",
       "    <tr style=\"text-align: right;\">\n",
       "      <th></th>\n",
       "      <th></th>\n",
       "      <th>Model Name</th>\n",
       "      <th>Provider</th>\n",
       "      <th>Release Date</th>\n",
       "      <th>Parameters</th>\n",
       "      <th>Architecture</th>\n",
       "      <th>Training Data Cutoff</th>\n",
       "      <th>Key Features</th>\n",
       "    </tr>\n",
       "  </thead>\n",
       "  <tbody>\n",
       "    <tr>\n",
       "      <th>GPT-3.5</th>\n",
       "      <th>OpenAI</th>\n",
       "      <td>2022-11</td>\n",
       "      <td>175B</td>\n",
       "      <td>Transformer</td>\n",
       "      <td>2021-09</td>\n",
       "      <td>Faster and cheaper than GPT-3</td>\n",
       "      <td>improved chat</td>\n",
       "      <td>NaN</td>\n",
       "    </tr>\n",
       "    <tr>\n",
       "      <th>LLaMA 2</th>\n",
       "      <th>Meta</th>\n",
       "      <td>2023-07</td>\n",
       "      <td>7B / 13B / 70B</td>\n",
       "      <td>Transformer</td>\n",
       "      <td>2023-06</td>\n",
       "      <td>Open-source</td>\n",
       "      <td>strong fine-tuning ability</td>\n",
       "      <td>NaN</td>\n",
       "    </tr>\n",
       "    <tr>\n",
       "      <th>Command R+</th>\n",
       "      <th>Cohere</th>\n",
       "      <td>2024-04</td>\n",
       "      <td>Unknown</td>\n",
       "      <td>Transformer</td>\n",
       "      <td>2024-02</td>\n",
       "      <td>RAG-optimized</td>\n",
       "      <td>strong retrieval abilities</td>\n",
       "      <td>NaN</td>\n",
       "    </tr>\n",
       "  </tbody>\n",
       "</table>\n",
       "</div>"
      ],
      "text/plain": [
       "                  Model Name        Provider Release Date Parameters  \\\n",
       "GPT-3.5    OpenAI    2022-11            175B  Transformer    2021-09   \n",
       "LLaMA 2    Meta      2023-07  7B / 13B / 70B  Transformer    2023-06   \n",
       "Command R+ Cohere    2024-04         Unknown  Transformer    2024-02   \n",
       "\n",
       "                                    Architecture         Training Data Cutoff  \\\n",
       "GPT-3.5    OpenAI  Faster and cheaper than GPT-3                improved chat   \n",
       "LLaMA 2    Meta                      Open-source   strong fine-tuning ability   \n",
       "Command R+ Cohere                  RAG-optimized   strong retrieval abilities   \n",
       "\n",
       "                  Key Features  \n",
       "GPT-3.5    OpenAI          NaN  \n",
       "LLaMA 2    Meta            NaN  \n",
       "Command R+ Cohere          NaN  "
      ]
     },
     "execution_count": 15,
     "metadata": {},
     "output_type": "execute_result"
    }
   ],
   "source": [
    "df.iloc[I[0]]"
   ]
  },
  {
   "cell_type": "code",
   "execution_count": 16,
   "id": "2a308b1a",
   "metadata": {},
   "outputs": [
    {
     "data": {
      "text/plain": [
       "'which models are better tahn GPT?'"
      ]
     },
     "execution_count": 16,
     "metadata": {},
     "output_type": "execute_result"
    }
   ],
   "source": [
    "search_query"
   ]
  }
 ],
 "metadata": {
  "kernelspec": {
   "display_name": "venv.rockyfinance",
   "language": "python",
   "name": "python3"
  },
  "language_info": {
   "codemirror_mode": {
    "name": "ipython",
    "version": 3
   },
   "file_extension": ".py",
   "mimetype": "text/x-python",
   "name": "python",
   "nbconvert_exporter": "python",
   "pygments_lexer": "ipython3",
   "version": "3.13.1"
  }
 },
 "nbformat": 4,
 "nbformat_minor": 5
}
